{
 "cells": [
  {
   "cell_type": "code",
   "execution_count": 1,
   "id": "9b0d1905",
   "metadata": {},
   "outputs": [
    {
     "name": "stdout",
     "output_type": "stream",
     "text": [
      "(1097, 477)\n"
     ]
    },
    {
     "data": {
      "text/html": [
       "<div>\n",
       "<style scoped>\n",
       "    .dataframe tbody tr th:only-of-type {\n",
       "        vertical-align: middle;\n",
       "    }\n",
       "\n",
       "    .dataframe tbody tr th {\n",
       "        vertical-align: top;\n",
       "    }\n",
       "\n",
       "    .dataframe thead th {\n",
       "        text-align: right;\n",
       "    }\n",
       "</style>\n",
       "<table border=\"1\" class=\"dataframe\">\n",
       "  <thead>\n",
       "    <tr style=\"text-align: right;\">\n",
       "      <th></th>\n",
       "      <th>The Life of David Gale (2003)</th>\n",
       "      <th>Wing Commander (1999)</th>\n",
       "      <th>Django Unchained (2012)</th>\n",
       "      <th>Alien (1979)</th>\n",
       "      <th>Indiana Jones and the Last Crusade (1989)</th>\n",
       "      <th>Snatch (2000)</th>\n",
       "      <th>Rambo: First Blood Part II (1985)</th>\n",
       "      <th>Fargo (1996)</th>\n",
       "      <th>Let the Right One In (2008)</th>\n",
       "      <th>Black Swan (2010)</th>\n",
       "      <th>...</th>\n",
       "      <th>When watching a movie I cheer or shout or talk or curse at the screen</th>\n",
       "      <th>When watching a movie I feel like the things on the screen are happening to me</th>\n",
       "      <th>As a movie unfolds I start to have problems keeping track of events that happened earlier</th>\n",
       "      <th>The emotions on the screen \"rub off\" on me - for instance if something sad is happening I get sad or if something frightening is happening I get scared</th>\n",
       "      <th>When watching a movie I get completely immersed in the alternative reality of the film</th>\n",
       "      <th>Movies change my position on social economic or political issues</th>\n",
       "      <th>When watching movies things get so intense that I have to stop watching</th>\n",
       "      <th>Gender identity (1 = female; 2 = male; 3 = self-described)</th>\n",
       "      <th>Are you an only child? (1: Yes; 0: No; -1: Did not respond)</th>\n",
       "      <th>Movies are best enjoyed alone (1: Yes; 0: No; -1: Did not respond)</th>\n",
       "    </tr>\n",
       "  </thead>\n",
       "  <tbody>\n",
       "    <tr>\n",
       "      <th>0</th>\n",
       "      <td>NaN</td>\n",
       "      <td>NaN</td>\n",
       "      <td>4.0</td>\n",
       "      <td>NaN</td>\n",
       "      <td>3.0</td>\n",
       "      <td>NaN</td>\n",
       "      <td>NaN</td>\n",
       "      <td>NaN</td>\n",
       "      <td>NaN</td>\n",
       "      <td>NaN</td>\n",
       "      <td>...</td>\n",
       "      <td>1.0</td>\n",
       "      <td>6.0</td>\n",
       "      <td>2.0</td>\n",
       "      <td>5.0</td>\n",
       "      <td>5.0</td>\n",
       "      <td>5.0</td>\n",
       "      <td>1.0</td>\n",
       "      <td>1.0</td>\n",
       "      <td>0</td>\n",
       "      <td>1</td>\n",
       "    </tr>\n",
       "    <tr>\n",
       "      <th>1</th>\n",
       "      <td>NaN</td>\n",
       "      <td>NaN</td>\n",
       "      <td>1.5</td>\n",
       "      <td>NaN</td>\n",
       "      <td>NaN</td>\n",
       "      <td>NaN</td>\n",
       "      <td>NaN</td>\n",
       "      <td>NaN</td>\n",
       "      <td>NaN</td>\n",
       "      <td>NaN</td>\n",
       "      <td>...</td>\n",
       "      <td>3.0</td>\n",
       "      <td>1.0</td>\n",
       "      <td>1.0</td>\n",
       "      <td>6.0</td>\n",
       "      <td>5.0</td>\n",
       "      <td>3.0</td>\n",
       "      <td>2.0</td>\n",
       "      <td>1.0</td>\n",
       "      <td>0</td>\n",
       "      <td>0</td>\n",
       "    </tr>\n",
       "    <tr>\n",
       "      <th>2</th>\n",
       "      <td>NaN</td>\n",
       "      <td>NaN</td>\n",
       "      <td>NaN</td>\n",
       "      <td>NaN</td>\n",
       "      <td>NaN</td>\n",
       "      <td>NaN</td>\n",
       "      <td>NaN</td>\n",
       "      <td>NaN</td>\n",
       "      <td>NaN</td>\n",
       "      <td>NaN</td>\n",
       "      <td>...</td>\n",
       "      <td>5.0</td>\n",
       "      <td>4.0</td>\n",
       "      <td>3.0</td>\n",
       "      <td>5.0</td>\n",
       "      <td>5.0</td>\n",
       "      <td>4.0</td>\n",
       "      <td>4.0</td>\n",
       "      <td>1.0</td>\n",
       "      <td>1</td>\n",
       "      <td>0</td>\n",
       "    </tr>\n",
       "    <tr>\n",
       "      <th>3</th>\n",
       "      <td>NaN</td>\n",
       "      <td>NaN</td>\n",
       "      <td>2.0</td>\n",
       "      <td>NaN</td>\n",
       "      <td>3.0</td>\n",
       "      <td>NaN</td>\n",
       "      <td>NaN</td>\n",
       "      <td>NaN</td>\n",
       "      <td>NaN</td>\n",
       "      <td>4.0</td>\n",
       "      <td>...</td>\n",
       "      <td>3.0</td>\n",
       "      <td>1.0</td>\n",
       "      <td>1.0</td>\n",
       "      <td>4.0</td>\n",
       "      <td>5.0</td>\n",
       "      <td>3.0</td>\n",
       "      <td>1.0</td>\n",
       "      <td>1.0</td>\n",
       "      <td>0</td>\n",
       "      <td>1</td>\n",
       "    </tr>\n",
       "    <tr>\n",
       "      <th>4</th>\n",
       "      <td>NaN</td>\n",
       "      <td>NaN</td>\n",
       "      <td>3.5</td>\n",
       "      <td>NaN</td>\n",
       "      <td>0.5</td>\n",
       "      <td>NaN</td>\n",
       "      <td>0.5</td>\n",
       "      <td>1.0</td>\n",
       "      <td>NaN</td>\n",
       "      <td>0.0</td>\n",
       "      <td>...</td>\n",
       "      <td>2.0</td>\n",
       "      <td>3.0</td>\n",
       "      <td>2.0</td>\n",
       "      <td>5.0</td>\n",
       "      <td>6.0</td>\n",
       "      <td>4.0</td>\n",
       "      <td>4.0</td>\n",
       "      <td>1.0</td>\n",
       "      <td>1</td>\n",
       "      <td>1</td>\n",
       "    </tr>\n",
       "  </tbody>\n",
       "</table>\n",
       "<p>5 rows × 477 columns</p>\n",
       "</div>"
      ],
      "text/plain": [
       "   The Life of David Gale (2003)  Wing Commander (1999)  \\\n",
       "0                            NaN                    NaN   \n",
       "1                            NaN                    NaN   \n",
       "2                            NaN                    NaN   \n",
       "3                            NaN                    NaN   \n",
       "4                            NaN                    NaN   \n",
       "\n",
       "   Django Unchained (2012)  Alien (1979)  \\\n",
       "0                      4.0           NaN   \n",
       "1                      1.5           NaN   \n",
       "2                      NaN           NaN   \n",
       "3                      2.0           NaN   \n",
       "4                      3.5           NaN   \n",
       "\n",
       "   Indiana Jones and the Last Crusade (1989)  Snatch (2000)  \\\n",
       "0                                        3.0            NaN   \n",
       "1                                        NaN            NaN   \n",
       "2                                        NaN            NaN   \n",
       "3                                        3.0            NaN   \n",
       "4                                        0.5            NaN   \n",
       "\n",
       "   Rambo: First Blood Part II (1985)  Fargo (1996)  \\\n",
       "0                                NaN           NaN   \n",
       "1                                NaN           NaN   \n",
       "2                                NaN           NaN   \n",
       "3                                NaN           NaN   \n",
       "4                                0.5           1.0   \n",
       "\n",
       "   Let the Right One In (2008)  Black Swan (2010)  ...  \\\n",
       "0                          NaN                NaN  ...   \n",
       "1                          NaN                NaN  ...   \n",
       "2                          NaN                NaN  ...   \n",
       "3                          NaN                4.0  ...   \n",
       "4                          NaN                0.0  ...   \n",
       "\n",
       "   When watching a movie I cheer or shout or talk or curse at the screen  \\\n",
       "0                                                1.0                       \n",
       "1                                                3.0                       \n",
       "2                                                5.0                       \n",
       "3                                                3.0                       \n",
       "4                                                2.0                       \n",
       "\n",
       "   When watching a movie I feel like the things on the screen are happening to me  \\\n",
       "0                                                6.0                                \n",
       "1                                                1.0                                \n",
       "2                                                4.0                                \n",
       "3                                                1.0                                \n",
       "4                                                3.0                                \n",
       "\n",
       "   As a movie unfolds I start to have problems keeping track of events that happened earlier  \\\n",
       "0                                                2.0                                           \n",
       "1                                                1.0                                           \n",
       "2                                                3.0                                           \n",
       "3                                                1.0                                           \n",
       "4                                                2.0                                           \n",
       "\n",
       "   The emotions on the screen \"rub off\" on me - for instance if something sad is happening I get sad or if something frightening is happening I get scared  \\\n",
       "0                                                5.0                                                                                                         \n",
       "1                                                6.0                                                                                                         \n",
       "2                                                5.0                                                                                                         \n",
       "3                                                4.0                                                                                                         \n",
       "4                                                5.0                                                                                                         \n",
       "\n",
       "   When watching a movie I get completely immersed in the alternative reality of the film  \\\n",
       "0                                                5.0                                        \n",
       "1                                                5.0                                        \n",
       "2                                                5.0                                        \n",
       "3                                                5.0                                        \n",
       "4                                                6.0                                        \n",
       "\n",
       "   Movies change my position on social economic or political issues  \\\n",
       "0                                                5.0                  \n",
       "1                                                3.0                  \n",
       "2                                                4.0                  \n",
       "3                                                3.0                  \n",
       "4                                                4.0                  \n",
       "\n",
       "   When watching movies things get so intense that I have to stop watching  \\\n",
       "0                                                1.0                         \n",
       "1                                                2.0                         \n",
       "2                                                4.0                         \n",
       "3                                                1.0                         \n",
       "4                                                4.0                         \n",
       "\n",
       "   Gender identity (1 = female; 2 = male; 3 = self-described)  \\\n",
       "0                                                1.0            \n",
       "1                                                1.0            \n",
       "2                                                1.0            \n",
       "3                                                1.0            \n",
       "4                                                1.0            \n",
       "\n",
       "   Are you an only child? (1: Yes; 0: No; -1: Did not respond)  \\\n",
       "0                                                  0             \n",
       "1                                                  0             \n",
       "2                                                  1             \n",
       "3                                                  0             \n",
       "4                                                  1             \n",
       "\n",
       "   Movies are best enjoyed alone (1: Yes; 0: No; -1: Did not respond)  \n",
       "0                                                  1                   \n",
       "1                                                  0                   \n",
       "2                                                  0                   \n",
       "3                                                  1                   \n",
       "4                                                  1                   \n",
       "\n",
       "[5 rows x 477 columns]"
      ]
     },
     "execution_count": 1,
     "metadata": {},
     "output_type": "execute_result"
    }
   ],
   "source": [
    "#importing modules\n",
    "import numpy as np\n",
    "import pandas as pd\n",
    "import matplotlib.pyplot as plt\n",
    "from scipy import stats\n",
    "from sklearn.decomposition import PCA\n",
    "# 0. Init\n",
    "import numpy as np\n",
    "import pandas as pd\n",
    "import matplotlib.pyplot as plt\n",
    "from scipy import stats\n",
    "from sklearn.decomposition import PCA\n",
    "from sklearn.cluster import KMeans\n",
    "from sklearn.metrics import silhouette_samples\n",
    "from sklearn.cluster import DBSCAN\n",
    "\n",
    "#read data in\n",
    "data = pd.read_csv('movieReplicationSet.csv')\n",
    "#print(data.columns)\n",
    "print(data.shape)\n",
    "data.head()"
   ]
  },
  {
   "cell_type": "code",
   "execution_count": 3,
   "id": "29c248db",
   "metadata": {},
   "outputs": [
    {
     "name": "stdout",
     "output_type": "stream",
     "text": [
      "['y', 'e', 'n']\n"
     ]
    }
   ],
   "source": [
    "list1 = [] \n",
    "word = \"yen\"\n",
    "for i in word :\n",
    "    list1.append(i)\n",
    "print(list1)"
   ]
  },
  {
   "cell_type": "code",
   "execution_count": 4,
   "id": "d2ff392b",
   "metadata": {},
   "outputs": [
    {
     "name": "stdout",
     "output_type": "stream",
     "text": [
      "['n']\n"
     ]
    }
   ],
   "source": [
    "word = \"yen\"\n",
    "for i in word :\n",
    "    list1 = [] \n",
    "    list1.append(i)\n",
    "print(list1)\n"
   ]
  },
  {
   "cell_type": "markdown",
   "id": "669b449d",
   "metadata": {},
   "source": []
  },
  {
   "cell_type": "code",
   "execution_count": 2,
   "id": "6059632b",
   "metadata": {},
   "outputs": [
    {
     "data": {
      "text/plain": [
       "(1097, 477)"
      ]
     },
     "execution_count": 2,
     "metadata": {},
     "output_type": "execute_result"
    }
   ],
   "source": [
    "#Loading data :\n",
    "data = pd.read_csv('movieReplicationSet.csv')\n",
    "\n",
    "movieRatings=data.iloc[0:,0:400]\n",
    "sensationSeek=data.iloc[0:,400:420]\n",
    "personality=data.iloc[0:,420:464]\n",
    "movieExperience=data.iloc[0:,464:474]\n",
    "gender=data.iloc[0:,474]\n",
    "onlyChild=data.iloc[0:,475]\n",
    "socialViewPref=data.iloc[0:,476]\n",
    "data.shape"
   ]
  },
  {
   "cell_type": "markdown",
   "id": "ae55bfa9",
   "metadata": {},
   "source": [
    "Q1: Relationship between sensation seeking and movie experiences? "
   ]
  },
  {
   "cell_type": "code",
   "execution_count": 3,
   "id": "5d7ff3ab",
   "metadata": {},
   "outputs": [
    {
     "data": {
      "text/plain": [
       "(1029, 10)"
      ]
     },
     "execution_count": 3,
     "metadata": {},
     "output_type": "execute_result"
    }
   ],
   "source": [
    "#sensationSeek,movieRatings\n",
    "data1=pd.concat([movieExperience,sensationSeek],axis=1)\n",
    "data1=data1.dropna()\n",
    "data1.shape\n",
    "moviexperience=data1.iloc[0:,0:10]\n",
    "sensationseeking=data1.iloc[0:,10:30]\n",
    "moviexperience.shape"
   ]
  },
  {
   "cell_type": "code",
   "execution_count": 4,
   "id": "113ba9b9",
   "metadata": {},
   "outputs": [
    {
     "data": {
      "image/png": "[encoded data removed]",
      "text/plain": [
       "<Figure size 432x288 with 2 Axes>"
      ]
     },
     "metadata": {
      "needs_background": "light"
     },
     "output_type": "display_data"
    },
    {
     "data": {
      "image/png": "[encoded data removed]",
      "text/plain": [
       "<Figure size 432x288 with 2 Axes>"
      ]
     },
     "metadata": {
      "needs_background": "light"
     },
     "output_type": "display_data"
    }
   ],
   "source": [
    "# 2. Looking at the raw data (Exploratory data analysis)\n",
    "plt.imshow(moviexperience) # Display an image, i.e. data, on a 2D regular raster.\n",
    "plt.xlabel('Movie Experience')\n",
    "plt.ylabel('Ratings')\n",
    "plt.colorbar() # Add color bar \n",
    "plt.show() \n",
    "\n",
    "#3. Compute correlation matrix\n",
    "corrMatrix = np.corrcoef(moviexperience,rowvar=False) \n",
    "# Plot the data:\n",
    "plt.imshow(corrMatrix) \n",
    "plt.xlabel('Movie Experience')\n",
    "plt.ylabel('Movie Experience')\n",
    "plt.colorbar()\n",
    "plt.show()"
   ]
  },
  {
   "cell_type": "code",
   "execution_count": 5,
   "id": "f5373974",
   "metadata": {},
   "outputs": [
    {
     "name": "stdout",
     "output_type": "stream",
     "text": [
      "29.481\n",
      "18.776\n",
      "8.761\n",
      "8.488\n",
      "7.666\n",
      "6.978\n",
      "5.751\n",
      "5.551\n",
      "4.402\n",
      "4.146\n"
     ]
    }
   ],
   "source": [
    "# 1. Z-score the data:\n",
    "zscoredData = stats.zscore(moviexperience)\n",
    "\n",
    "# 2. Initialize PCA object and fit to our data:\n",
    "pca = PCA().fit(zscoredData)\n",
    "\n",
    "# 3a. Eigenvalues: Single vector of eigenvalues in decreasing order of magnitude\n",
    "eigVals = pca.explained_variance_\n",
    "\n",
    "# 3b. Loadings (eigenvectors): Weights per factor in terms of the original data. Where do the\n",
    "# principal components point, in terms of the 17 questions?\n",
    "loadings1 = pca.components_\n",
    "# 3c. Rotated Data: Simply the transformed data - we had 40 courses (rows) in\n",
    "# terms of 17 variables (columns), now we have 40 courses in terms of 17\n",
    "# factors ordered by decreasing eigenvalue\n",
    "rotatedData1 = pca.fit_transform(zscoredData)\n",
    "# 4. For the purposes of this, you can think of eigenvalues in terms of \n",
    "# (co)variance explained:\n",
    "covarExplained = eigVals/sum(eigVals)*100\n",
    "\n",
    "# Now let's display this for each factor:\n",
    "for ii in range(len(covarExplained)):\n",
    "    print(covarExplained[ii].round(3))\n",
    "    \n",
    "#Our first PC alone explain 29% of the variance and it drops down "
   ]
  },
  {
   "cell_type": "code",
   "execution_count": 6,
   "id": "c574da27",
   "metadata": {},
   "outputs": [
    {
     "data": {
      "image/png": "[encoded data removed]",
      "text/plain": [
       "<Figure size 432x288 with 1 Axes>"
      ]
     },
     "metadata": {
      "needs_background": "light"
     },
     "output_type": "display_data"
    }
   ],
   "source": [
    "#Plot Screeplot \n",
    "numQuestion = 10\n",
    "x = np.linspace(1,numQuestion,numQuestion)\n",
    "plt.bar(x, eigVals, color='green')\n",
    "plt.plot([0,numQuestion],[1,1],color='orange') # Orange Kaiser criterion line for the fox\n",
    "plt.xlabel('Principal component')\n",
    "plt.ylabel('Eigenvalue')\n",
    "plt.show()\n",
    "#the index starts from 0 but nxn so it's 1 \n",
    "#in loadings matrix index is 0."
   ]
  },
  {
   "cell_type": "code",
   "execution_count": 7,
   "id": "2f94dcef",
   "metadata": {},
   "outputs": [
    {
     "name": "stdout",
     "output_type": "stream",
     "text": [
      "Number of factors selected by Kaiser criterion: 2\n"
     ]
    }
   ],
   "source": [
    "threshold = 1\n",
    "print('Number of factors selected by Kaiser criterion:', np.count_nonzero(eigVals > threshold))"
   ]
  },
  {
   "cell_type": "code",
   "execution_count": 8,
   "id": "80c9b2d9",
   "metadata": {},
   "outputs": [
    {
     "data": {
      "image/png": "[encoded data removed]",
      "text/plain": [
       "<Figure size 432x288 with 1 Axes>"
      ]
     },
     "metadata": {
      "needs_background": "light"
     },
     "output_type": "display_data"
    },
    {
     "name": "stdout",
     "output_type": "stream",
     "text": [
      "Index(['I have cried during a movie',\n",
      "       'I have trouble following the story of a movie',\n",
      "       'I have trouble remembering the story of a movie a couple of days after seeing it',\n",
      "       'When watching a movie I cheer or shout or talk or curse at the screen',\n",
      "       'When watching a movie I feel like the things on the screen are happening to me',\n",
      "       'As a movie unfolds I start to have problems keeping track of events that happened earlier',\n",
      "       'The emotions on the screen \"rub off\" on me - for instance if something sad is happening I get sad or if something frightening is happening I get scared',\n",
      "       'When watching a movie I get completely immersed in the alternative reality of the film',\n",
      "       'Movies change my position on social economic or political issues',\n",
      "       'When watching movies things get so intense that I have to stop watching'],\n",
      "      dtype='object')\n"
     ]
    }
   ],
   "source": [
    "# 7. Interpreting the factors \n",
    "\n",
    "# Now that we realize that 1, 2 are reasonable solutions to the course\n",
    "# evaluation issue, we have to interpret the factors.\n",
    "# This is perhaps where researchers have the most leeway.\n",
    "# You do this - in principle - by looking at the loadings.\n",
    "# In which direction does the factor point? \n",
    "\n",
    "whichPrincipalComponent = 1 # Select and look at once factor at a time \n",
    "plt.bar(x,loadings1[whichPrincipalComponent,:]*-1) # note: eigVecs multiplied by -1\n",
    "plt.xlabel('Question')\n",
    "plt.ylabel('Loading')\n",
    "plt.show() # Show bar plot\n",
    "print(moviexperience.columns) # Display questions"
   ]
  },
  {
   "cell_type": "code",
   "execution_count": 9,
   "id": "69fc7e96",
   "metadata": {},
   "outputs": [
    {
     "data": {
      "image/png": "[encoded data removed]",
      "text/plain": [
       "<Figure size 432x288 with 1 Axes>"
      ]
     },
     "metadata": {
      "needs_background": "light"
     },
     "output_type": "display_data"
    },
    {
     "name": "stdout",
     "output_type": "stream",
     "text": [
      "Index(['I have cried during a movie',\n",
      "       'I have trouble following the story of a movie',\n",
      "       'I have trouble remembering the story of a movie a couple of days after seeing it',\n",
      "       'When watching a movie I cheer or shout or talk or curse at the screen',\n",
      "       'When watching a movie I feel like the things on the screen are happening to me',\n",
      "       'As a movie unfolds I start to have problems keeping track of events that happened earlier',\n",
      "       'The emotions on the screen \"rub off\" on me - for instance if something sad is happening I get sad or if something frightening is happening I get scared',\n",
      "       'When watching a movie I get completely immersed in the alternative reality of the film',\n",
      "       'Movies change my position on social economic or political issues',\n",
      "       'When watching movies things get so intense that I have to stop watching'],\n",
      "      dtype='object')\n"
     ]
    }
   ],
   "source": [
    "whichPrincipalComponent = 2 # Select and look at once factor at a time \n",
    "plt.bar(x,loadings1[whichPrincipalComponent,:]*-1) # note: eigVecs multiplied by -1\n",
    "plt.xlabel('Question')\n",
    "plt.ylabel('Loading')\n",
    "plt.show() # Show bar plot\n",
    "print(moviexperience.columns) # Display questions"
   ]
  },
  {
   "cell_type": "code",
   "execution_count": 10,
   "id": "836837fe",
   "metadata": {},
   "outputs": [
    {
     "data": {
      "image/png": "[encoded data removed]",
      "text/plain": [
       "<Figure size 432x288 with 1 Axes>"
      ]
     },
     "metadata": {
      "needs_background": "light"
     },
     "output_type": "display_data"
    }
   ],
   "source": [
    "# 8. Visualize our data in the new coordinate system\n",
    "\n",
    "plt.plot(rotatedData1[:,1]*-1,rotatedData1[:,2]*-1,'o',markersize=5)\n",
    "plt.xlabel('PC1')\n",
    "plt.ylabel('PC2')\n",
    "plt.show()\n"
   ]
  },
  {
   "cell_type": "markdown",
   "id": "c57e6ea4",
   "metadata": {},
   "source": [
    "Doing PCA for SensationSeeking "
   ]
  },
  {
   "cell_type": "code",
   "execution_count": 11,
   "id": "73d94169",
   "metadata": {},
   "outputs": [
    {
     "data": {
      "text/plain": [
       "(1029, 20)"
      ]
     },
     "execution_count": 11,
     "metadata": {},
     "output_type": "execute_result"
    }
   ],
   "source": [
    "sensationseeking=data1.iloc[0:,10:30]\n",
    "sensationseeking.shape"
   ]
  },
  {
   "cell_type": "code",
   "execution_count": 12,
   "id": "1b68c8f4",
   "metadata": {},
   "outputs": [
    {
     "data": {
      "image/png": "[encoded data removed]",
      "text/plain": [
       "<Figure size 432x288 with 2 Axes>"
      ]
     },
     "metadata": {
      "needs_background": "light"
     },
     "output_type": "display_data"
    },
    {
     "data": {
      "image/png": "[encoded data removed]",
      "text/plain": [
       "<Figure size 432x288 with 2 Axes>"
      ]
     },
     "metadata": {
      "needs_background": "light"
     },
     "output_type": "display_data"
    }
   ],
   "source": [
    "# 2. Looking at the raw data (Exploratory data analysis)\n",
    "plt.imshow(sensationseeking) # Display an image, i.e. data, on a 2D regular raster.\n",
    "plt.xlabel('Sensation Seeking')\n",
    "plt.ylabel('Ratings')\n",
    "plt.colorbar() # Add color bar \n",
    "plt.show() \n",
    "\n",
    "#3. Compute correlation matrix\n",
    "corrMatrix = np.corrcoef(sensationseeking,rowvar=False) \n",
    "# Plot the data:\n",
    "plt.imshow(corrMatrix) \n",
    "plt.xlabel('Sensation Seeking')\n",
    "plt.ylabel('Sensation Seeking')\n",
    "plt.colorbar()\n",
    "plt.show()"
   ]
  },
  {
   "cell_type": "code",
   "execution_count": 13,
   "id": "dce98c1a",
   "metadata": {},
   "outputs": [
    {
     "name": "stdout",
     "output_type": "stream",
     "text": [
      "17.45\n",
      "8.887\n",
      "8.191\n",
      "6.537\n",
      "5.787\n",
      "5.218\n",
      "4.927\n",
      "4.817\n",
      "4.494\n",
      "4.288\n",
      "3.976\n",
      "3.729\n",
      "3.702\n",
      "3.356\n",
      "3.074\n",
      "2.945\n",
      "2.779\n",
      "2.503\n",
      "1.718\n",
      "1.621\n"
     ]
    }
   ],
   "source": [
    "# 1. Z-score the data:\n",
    "zscoredData = stats.zscore(sensationseeking)\n",
    "\n",
    "# 2. Initialize PCA object and fit to our data:\n",
    "pca = PCA().fit(zscoredData)\n",
    "\n",
    "# 3a. Eigenvalues: Single vector of eigenvalues in decreasing order of magnitude\n",
    "eigVals = pca.explained_variance_\n",
    "\n",
    "# 3b. Loadings (eigenvectors): Weights per factor in terms of the original data. Where do the\n",
    "# principal components point, in terms of the 17 questions?\n",
    "loadings = pca.components_\n",
    "# 3c. Rotated Data: Simply the transformed data - we had 40 courses (rows) in\n",
    "# terms of 17 variables (columns), now we have 40 courses in terms of 17\n",
    "# factors ordered by decreasing eigenvalue\n",
    "rotatedData = pca.fit_transform(zscoredData)\n",
    "\n",
    "# 4. For the purposes of this, you can think of eigenvalues in terms of \n",
    "# (co)variance explained:\n",
    "covarExplained = eigVals/sum(eigVals)*100\n",
    "\n",
    "# Now let's display this for each factor:\n",
    "for ii in range(len(covarExplained)):\n",
    "    print(covarExplained[ii].round(3))\n",
    "    \n",
    "#Our first PC alone explain 29% of the variance and it drops down "
   ]
  },
  {
   "cell_type": "code",
   "execution_count": 14,
   "id": "afbe8671",
   "metadata": {},
   "outputs": [
    {
     "data": {
      "image/png": "[encoded data removed]",
      "text/plain": [
       "<Figure size 432x288 with 1 Axes>"
      ]
     },
     "metadata": {
      "needs_background": "light"
     },
     "output_type": "display_data"
    }
   ],
   "source": [
    "#Plot Screeplot \n",
    "numQuestion = 20\n",
    "x = np.linspace(1,numQuestion,numQuestion)\n",
    "plt.bar(x, eigVals, color='pink')\n",
    "plt.plot([0,numQuestion],[1,1],color='orange') # Orange Kaiser criterion line for the fox\n",
    "plt.xlabel('Principal component')\n",
    "plt.ylabel('Eigenvalue')\n",
    "plt.show()"
   ]
  },
  {
   "cell_type": "code",
   "execution_count": 15,
   "id": "8818b5d3",
   "metadata": {},
   "outputs": [
    {
     "name": "stdout",
     "output_type": "stream",
     "text": [
      "Number of factors selected by Kaiser criterion: 6\n",
      "(array([0]),)\n"
     ]
    }
   ],
   "source": [
    "threshold = 1\n",
    "print('Number of factors selected by Kaiser criterion:', np.count_nonzero(eigVals > threshold))\n",
    "print(np.where(max(eigVals)))"
   ]
  },
  {
   "cell_type": "code",
   "execution_count": 16,
   "id": "28debcab",
   "metadata": {
    "scrolled": true
   },
   "outputs": [
    {
     "data": {
      "image/png": "[encoded data removed]",
      "text/plain": [
       "<Figure size 432x288 with 1 Axes>"
      ]
     },
     "metadata": {
      "needs_background": "light"
     },
     "output_type": "display_data"
    },
    {
     "name": "stdout",
     "output_type": "stream",
     "text": [
      "Index(['I enjoy driving fast', 'I enjoy rollercoasters ',\n",
      "       'Have you ever bungee-jumped?', 'I enjoy impulse shopping',\n",
      "       'I sometimes go out on weeknights even if I have work to do',\n",
      "       'I enjoy doing things without too much planning ',\n",
      "       'Have you ever been rock climbing?',\n",
      "       'I enjoy being in large loud crowds like the Times Square Ball Drop on New Years Eve',\n",
      "       'I enjoy going to large music or dance festivals ',\n",
      "       'I enjoy watching horror movies', 'No risk - No fun',\n",
      "       'I like to be surprised even if it startles or scares me',\n",
      "       'Have you ever parachuted?', 'I enjoy haunted houses',\n",
      "       'I had a sheltered upbringing', 'My life is very stressful',\n",
      "       'I value my life to be well ordered and predictable',\n",
      "       'Have you ridden a motorcycle?', 'Have you gambled or bet for money?',\n",
      "       'Have you ever been sky-diving?'],\n",
      "      dtype='object')\n"
     ]
    }
   ],
   "source": [
    "# 7. Interpreting the factors \n",
    "\n",
    "# Now that we realize that 1, 2 are reasonable solutions to the course\n",
    "# evaluation issue, we have to interpret the factors.\n",
    "# This is perhaps where researchers have the most leeway.\n",
    "# You do this - in principle - by looking at the loadings.\n",
    "# In which direction does the factor point? \n",
    "\n",
    "whichPrincipalComponent = 1 # Select and look at once factor at a time \n",
    "plt.bar(x,loadings[whichPrincipalComponent,:]*-1) # note: eigVecs multiplied by -1\n",
    "plt.xlabel('Question')\n",
    "plt.ylabel('Loading')\n",
    "plt.show() # Show bar plot\n",
    "print(sensationseeking.columns) # Display questions"
   ]
  },
  {
   "cell_type": "code",
   "execution_count": 17,
   "id": "3af36496",
   "metadata": {},
   "outputs": [
    {
     "data": {
      "image/png": "[encoded data removed]",
      "text/plain": [
       "<Figure size 432x288 with 1 Axes>"
      ]
     },
     "metadata": {
      "needs_background": "light"
     },
     "output_type": "display_data"
    }
   ],
   "source": [
    "whichPrincipalComponent = 2# Select and look at once factor at a time \n",
    "plt.bar(x,loadings[whichPrincipalComponent,:]*-1) # note: eigVecs multiplied by -1\n",
    "plt.xlabel('Question')\n",
    "plt.ylabel('Loading')\n",
    "plt.show() # Show bar plot"
   ]
  },
  {
   "cell_type": "code",
   "execution_count": 18,
   "id": "51b3c844",
   "metadata": {},
   "outputs": [
    {
     "data": {
      "image/png": "[encoded data removed]",
      "text/plain": [
       "<Figure size 432x288 with 1 Axes>"
      ]
     },
     "metadata": {
      "needs_background": "light"
     },
     "output_type": "display_data"
    },
    {
     "data": {
      "image/png": "[encoded data removed]",
      "text/plain": [
       "<Figure size 432x288 with 1 Axes>"
      ]
     },
     "metadata": {
      "needs_background": "light"
     },
     "output_type": "display_data"
    },
    {
     "data": {
      "image/png": "[encoded data removed]",
      "text/plain": [
       "<Figure size 432x288 with 1 Axes>"
      ]
     },
     "metadata": {
      "needs_background": "light"
     },
     "output_type": "display_data"
    },
    {
     "data": {
      "image/png": "[encoded data removed]",
      "text/plain": [
       "<Figure size 432x288 with 1 Axes>"
      ]
     },
     "metadata": {
      "needs_background": "light"
     },
     "output_type": "display_data"
    }
   ],
   "source": [
    "whichPrincipalComponent = 3# Select and look at once factor at a time \n",
    "plt.bar(x,loadings[whichPrincipalComponent,:]*-1) # note: eigVecs multiplied by -1\n",
    "plt.xlabel('Question')\n",
    "plt.ylabel('Loading')\n",
    "plt.show() # Show bar plot\n",
    "\n",
    "whichPrincipalComponent = 4# Select and look at once factor at a time \n",
    "plt.bar(x,loadings[whichPrincipalComponent,:]*-1) # note: eigVecs multiplied by -1\n",
    "plt.xlabel('Question')\n",
    "plt.ylabel('Loading')\n",
    "plt.show() # Show bar plot\n",
    "\n",
    "\n",
    "whichPrincipalComponent = 5# Select and look at once factor at a time \n",
    "plt.bar(x,loadings[whichPrincipalComponent,:]*-1) # note: eigVecs multiplied by -1\n",
    "plt.xlabel('Question')\n",
    "plt.ylabel('Loading')\n",
    "plt.show() # Show bar plot\n",
    "\n",
    "whichPrincipalComponent = 6# Select and look at once factor at a time \n",
    "plt.bar(x,loadings[whichPrincipalComponent,:]*-1) # note: eigVecs multiplied by -1\n",
    "plt.xlabel('Question')\n",
    "plt.ylabel('Loading')\n",
    "plt.show() # Show bar plot\n",
    "\n"
   ]
  },
  {
   "cell_type": "code",
   "execution_count": 19,
   "id": "451dbb5f",
   "metadata": {},
   "outputs": [
    {
     "data": {
      "image/png": "[encoded data removed]",
      "text/plain": [
       "<Figure size 432x288 with 1 Axes>"
      ]
     },
     "metadata": {
      "needs_background": "light"
     },
     "output_type": "display_data"
    }
   ],
   "source": [
    "# 8. Visualize our data in the new coordinate system\n",
    "plt.plot(rotatedData[:,1]*-1,rotatedData[:,2]*-1,'o',markersize=5)\n",
    "plt.xlabel('PC1')\n",
    "plt.ylabel('PC2')\n",
    "plt.show()\n"
   ]
  },
  {
   "cell_type": "code",
   "execution_count": 20,
   "id": "2c46b4cb",
   "metadata": {},
   "outputs": [
    {
     "name": "stdout",
     "output_type": "stream",
     "text": [
      "(1029, 20)\n",
      "0.012481716681392155\n"
     ]
    }
   ],
   "source": [
    "print(rotatedData.shape)\n",
    "a=np.corrcoef(rotatedData1[:,0],rotatedData[:,0])\n",
    "print(a[0][1])"
   ]
  },
  {
   "cell_type": "markdown",
   "id": "f016637c",
   "metadata": {},
   "source": [
    "QUESTION 2 : Is there evidence of personality types based on the data of these research participants? If so,characterize these types both quantitatively and narratively.\n",
    "Use clustering to find personality type. "
   ]
  },
  {
   "cell_type": "code",
   "execution_count": 21,
   "id": "3db9e878",
   "metadata": {},
   "outputs": [
    {
     "name": "stdout",
     "output_type": "stream",
     "text": [
      "   Is talkative  Tends to find fault with others  Does a thorough job  \\\n",
      "1           2.0                              3.0                  4.0   \n",
      "2           4.0                              2.0                  4.0   \n",
      "3           5.0                              3.0                  5.0   \n",
      "4           4.0                              4.0                  4.0   \n",
      "5           1.0                              3.0                  3.0   \n",
      "\n",
      "   Is depressed/Blue  Is original/comes up with new ideas  Is reserved  \\\n",
      "1                1.0                                  3.0          5.0   \n",
      "2                2.0                                  3.0          3.0   \n",
      "3                4.0                                  5.0          3.0   \n",
      "4                4.0                                  2.0          3.0   \n",
      "5                4.0                                  3.0          4.0   \n",
      "\n",
      "   Is helpful and unselfish with others  Can be somewhat careless  \\\n",
      "1                                   3.0                       4.0   \n",
      "2                                   4.0                       4.0   \n",
      "3                                   4.0                       1.0   \n",
      "4                                   4.0                       4.0   \n",
      "5                                   3.0                       4.0   \n",
      "\n",
      "   Is relaxed/handles stress well  Is curious about many different things  \\\n",
      "1                             3.0                                     3.0   \n",
      "2                             2.0                                     4.0   \n",
      "3                             2.0                                     5.0   \n",
      "4                             2.0                                     4.0   \n",
      "5                             2.0                                     3.0   \n",
      "\n",
      "   ...  Prefers work that is routine  is outgoing/sociable  \\\n",
      "1  ...                           4.0                   1.0   \n",
      "2  ...                           2.0                   3.0   \n",
      "3  ...                           3.0                   3.0   \n",
      "4  ...                           2.0                   4.0   \n",
      "5  ...                           2.0                   1.0   \n",
      "\n",
      "   Is sometimes rude to others  Makes plans and follows through with them  \\\n",
      "1                          3.0                                        4.0   \n",
      "2                          2.0                                        3.0   \n",
      "3                          2.0                                        3.0   \n",
      "4                          4.0                                        4.0   \n",
      "5                          2.0                                        2.0   \n",
      "\n",
      "   Gets nervous easily  Likes to reflect/play with ideas  \\\n",
      "1                  2.0                               3.0   \n",
      "2                  4.0                               4.0   \n",
      "3                  4.0                               4.0   \n",
      "4                  4.0                               3.0   \n",
      "5                  5.0                               1.0   \n",
      "\n",
      "   Has few artistic interests  Likes to cooperate with others  \\\n",
      "1                         1.0                             3.0   \n",
      "2                         2.0                             5.0   \n",
      "3                         1.0                             4.0   \n",
      "4                         4.0                             4.0   \n",
      "5                         1.0                             2.0   \n",
      "\n",
      "   Is easily distracted  Is sophisticated in art or music or literature  \n",
      "1                   2.0                                             3.0  \n",
      "2                   3.0                                             3.0  \n",
      "3                   4.0                                             4.0  \n",
      "4                   4.0                                             4.0  \n",
      "5                   4.0                                             4.0  \n",
      "\n",
      "[5 rows x 44 columns]\n",
      "Index(['Is talkative', 'Tends to find fault with others',\n",
      "       'Does a thorough job', 'Is depressed/Blue',\n",
      "       'Is original/comes up with new ideas', 'Is reserved',\n",
      "       'Is helpful and unselfish with others', 'Can be somewhat careless',\n",
      "       'Is relaxed/handles stress well',\n",
      "       'Is curious about many different things', 'Is full of energy',\n",
      "       'Starts quarrels with others', 'Is a reliable worker', 'Can be tense',\n",
      "       'Is ingenious/a deep thinker', 'Generates a lot of Enthusiasm',\n",
      "       'Has a forgiving nature', 'Tends to be disorganized', 'Worries a lot',\n",
      "       'Has an active imagination', 'Tends to be quiet',\n",
      "       'Is generally trusting', 'Tends to be lazy',\n",
      "       'Is emotionally stable/not easily upset', 'is inventive',\n",
      "       'Has an assertive personality', 'Can be cold and aloof',\n",
      "       'Perseveres until the task is finished', 'Can be moody',\n",
      "       'Values artistic/aesthetic experiences', 'Is sometimes shy/inhibited',\n",
      "       'Is considerate and kind to almost everyone', 'Does things efficiently',\n",
      "       'Remains calm in tense situations', 'Prefers work that is routine',\n",
      "       'is outgoing/sociable', 'Is sometimes rude to others',\n",
      "       'Makes plans and follows through with them', 'Gets nervous easily',\n",
      "       'Likes to reflect/play with ideas', 'Has few artistic interests',\n",
      "       'Likes to cooperate with others', 'Is easily distracted',\n",
      "       'Is sophisticated in art or music or literature'],\n",
      "      dtype='object')\n"
     ]
    }
   ],
   "source": [
    "data = pd.read_csv('movieReplicationSet.csv')\n",
    "\n",
    "movieRatings=data.iloc[0:,0:400]\n",
    "sensationSeek=data.iloc[0:,400:420]\n",
    "personality=data.iloc[0:,420:464]\n",
    "movieExperience=data.iloc[0:,464:474]\n",
    "gender=data.iloc[0:,474]\n",
    "onlyChild=data.iloc[0:,475]\n",
    "socialViewPref=data.iloc[0:,476]\n",
    "data.shape\n",
    "\n",
    "personality=data.iloc[0:,420:464]\n",
    "personality=personality.dropna()\n",
    "print(personality.head())\n",
    "print(personality.columns)\n",
    "#there are 44 columns in this "
   ]
  },
  {
   "cell_type": "code",
   "execution_count": 22,
   "id": "e240d100",
   "metadata": {},
   "outputs": [
    {
     "data": {
      "image/png": "[encoded data removed]",
      "text/plain": [
       "<Figure size 432x288 with 2 Axes>"
      ]
     },
     "metadata": {
      "needs_background": "light"
     },
     "output_type": "display_data"
    }
   ],
   "source": [
    "# 4. To ascertain whether a PCA is indicated, let's look at the correlation heatmap\n",
    "corrMatrixq2 = np.corrcoef(personality,rowvar=False)\n",
    "plt.imshow(corrMatrixq2)\n",
    "plt.xlabel('Personality Questions')\n",
    "plt.ylabel('Personality Questions')\n",
    "plt.colorbar()\n",
    "plt.show()"
   ]
  },
  {
   "cell_type": "code",
   "execution_count": 23,
   "id": "64d81496",
   "metadata": {},
   "outputs": [
    {
     "name": "stdout",
     "output_type": "stream",
     "text": [
      "17.45\n",
      "8.887\n",
      "8.191\n",
      "6.537\n",
      "5.787\n",
      "5.218\n",
      "4.927\n",
      "4.817\n",
      "4.494\n",
      "4.288\n",
      "3.976\n",
      "3.729\n",
      "3.702\n",
      "3.356\n",
      "3.074\n",
      "2.945\n",
      "2.779\n",
      "2.503\n",
      "1.718\n",
      "1.621\n"
     ]
    }
   ],
   "source": [
    "# 5. PCA is indicated, and we have an expectation of the results. So let's do a PCA.\n",
    "\n",
    "# Z-score the data:\n",
    "zscoredData = stats.zscore(personality)\n",
    "\n",
    "# Initialize PCA object and fit to our data:\n",
    "pca = PCA().fit(zscoredData)\n",
    "\n",
    "# Eigenvalues: Single vector of eigenvalues in decreasing order of magnitude\n",
    "eigVals = pca.explained_variance_\n",
    "\n",
    "# Loadings (eigenvectors): Weights per factor in terms of the original data.\n",
    "loadings = pca.components_*-1\n",
    "\n",
    "# Rotated Data - simply the transformed data:\n",
    "origDataNewCoordinates = pca.fit_transform(zscoredData)*-1\n",
    "\n",
    "for ii in range(len(covarExplained)):\n",
    "    print(covarExplained[ii].round(3))\n"
   ]
  },
  {
   "cell_type": "code",
   "execution_count": 24,
   "id": "cce9d72f",
   "metadata": {},
   "outputs": [
    {
     "data": {
      "image/png": "[encoded data removed]",
      "text/plain": [
       "<Figure size 432x288 with 1 Axes>"
      ]
     },
     "metadata": {
      "needs_background": "light"
     },
     "output_type": "display_data"
    }
   ],
   "source": [
    "#Screeplot\n",
    "numQuestion = 44\n",
    "x = np.linspace(1,numQuestion,numQuestion)\n",
    "plt.bar(x, eigVals, color='purple')\n",
    "plt.plot([0,numQuestion],[1,1],color='orange') # Orange Kaiser criterion line for the fox\n",
    "plt.xlabel('Principal component')\n",
    "plt.ylabel('Eigenvalue')\n",
    "plt.show()"
   ]
  },
  {
   "cell_type": "code",
   "execution_count": 25,
   "id": "08461a02",
   "metadata": {},
   "outputs": [
    {
     "name": "stdout",
     "output_type": "stream",
     "text": [
      "Number of factors selected by Kaiser criterion: 8\n"
     ]
    }
   ],
   "source": [
    "threshold = 1\n",
    "print('Number of factors selected by Kaiser criterion:', np.count_nonzero(eigVals > threshold))"
   ]
  },
  {
   "cell_type": "code",
   "execution_count": 26,
   "id": "d63e8b32",
   "metadata": {},
   "outputs": [
    {
     "data": {
      "image/png": "[encoded data removed]",
      "text/plain": [
       "<Figure size 432x288 with 2 Axes>"
      ]
     },
     "metadata": {
      "needs_background": "light"
     },
     "output_type": "display_data"
    },
    {
     "data": {
      "text/plain": [
       "Text(0.5, 1.0, 'PC4')"
      ]
     },
     "execution_count": 26,
     "metadata": {},
     "output_type": "execute_result"
    },
    {
     "data": {
      "image/png": "[encoded data removed]",
      "text/plain": [
       "<Figure size 432x288 with 2 Axes>"
      ]
     },
     "metadata": {
      "needs_background": "light"
     },
     "output_type": "display_data"
    }
   ],
   "source": [
    "# Looking at the corrected scree plot, we get 5 factors, both by \n",
    "# Kaiser criterion and Elbow.\n",
    "\n",
    "# Next step: Look at the loadings to figure out meaning:\n",
    "plt.subplot(1,2,1) # Factor 1: \n",
    "plt.bar(np.linspace(1,numQuestion,numQuestion),loadings[0,:]) # \"Turmoil\" #0th columns of loading which is pc1 \n",
    "plt.title('PC1')\n",
    "plt.subplot(1,2,2) # Factor 2:\n",
    "plt.bar(np.linspace(1,numQuestion,numQuestion),loadings[1,:]) # \"Support\"\n",
    "plt.title('PC2')\n",
    "plt.show()\n",
    "plt.subplot(1,2,1) # Factor 1: \n",
    "plt.bar(np.linspace(1,numQuestion,numQuestion),loadings[2,:]) # \"Turmoil\" #0th columns of loading which is pc1 \n",
    "plt.title('PC3')\n",
    "plt.subplot(1,2,2) # Factor 1: \n",
    "plt.bar(np.linspace(1,numQuestion,numQuestion),loadings[3,:]) # \"Turmoil\" #0th columns of loading which is pc1 \n",
    "plt.title('PC4')\n",
    "\n"
   ]
  },
  {
   "cell_type": "code",
   "execution_count": 27,
   "id": "e070a84d",
   "metadata": {},
   "outputs": [
    {
     "data": {
      "image/png": "[encoded data removed]",
      "text/plain": [
       "<Figure size 432x288 with 2 Axes>"
      ]
     },
     "metadata": {
      "needs_background": "light"
     },
     "output_type": "display_data"
    },
    {
     "data": {
      "text/plain": [
       "Text(0.5, 1.0, 'PC8')"
      ]
     },
     "execution_count": 27,
     "metadata": {},
     "output_type": "execute_result"
    },
    {
     "data": {
      "image/png": "[encoded data removed]",
      "text/plain": [
       "<Figure size 432x288 with 2 Axes>"
      ]
     },
     "metadata": {
      "needs_background": "light"
     },
     "output_type": "display_data"
    }
   ],
   "source": [
    "# Next step: Look at the loadings to figure out meaning:\n",
    "plt.subplot(1,2,1) # Factor 1: \n",
    "plt.bar(np.linspace(1,numQuestion,numQuestion),loadings[4,:]) # \"Turmoil\" #0th columns of loading which is pc1 \n",
    "plt.title('PC5')\n",
    "plt.subplot(1,2,2) # Factor 2:\n",
    "plt.bar(np.linspace(1,numQuestion,numQuestion),loadings[5,:]) # \"Support\"\n",
    "plt.title('PC6')\n",
    "plt.show()\n",
    "plt.subplot(1,2,1) # Factor 1: \n",
    "plt.bar(np.linspace(1,numQuestion,numQuestion),loadings[6,:]) # \"Turmoil\" #0th columns of loading which is pc1 \n",
    "plt.title('PC7')\n",
    "plt.subplot(1,2,2) # Factor 1: \n",
    "plt.bar(np.linspace(1,numQuestion,numQuestion),loadings[7,:]) # \"Turmoil\" #0th columns of loading which is pc1 \n",
    "plt.title('PC8')\n"
   ]
  },
  {
   "cell_type": "code",
   "execution_count": 28,
   "id": "f77f17db",
   "metadata": {},
   "outputs": [
    {
     "data": {
      "image/png": "[encoded data removed]",
      "text/plain": [
       "<Figure size 432x288 with 1 Axes>"
      ]
     },
     "metadata": {
      "needs_background": "light"
     },
     "output_type": "display_data"
    }
   ],
   "source": [
    "# 6. Visualize our data in the new coordinate system:\n",
    "plt.plot(origDataNewCoordinates[:,0],origDataNewCoordinates[:,1],'o',markersize=1)\n",
    "plt.show()"
   ]
  },
  {
   "cell_type": "code",
   "execution_count": 29,
   "id": "b784107d",
   "metadata": {},
   "outputs": [
    {
     "name": "stdout",
     "output_type": "stream",
     "text": [
      "Index(['Is talkative', 'Tends to find fault with others',\n",
      "       'Does a thorough job', 'Is depressed/Blue',\n",
      "       'Is original/comes up with new ideas', 'Is reserved',\n",
      "       'Is helpful and unselfish with others', 'Can be somewhat careless',\n",
      "       'Is relaxed/handles stress well',\n",
      "       'Is curious about many different things', 'Is full of energy',\n",
      "       'Starts quarrels with others', 'Is a reliable worker', 'Can be tense',\n",
      "       'Is ingenious/a deep thinker', 'Generates a lot of Enthusiasm',\n",
      "       'Has a forgiving nature', 'Tends to be disorganized', 'Worries a lot',\n",
      "       'Has an active imagination', 'Tends to be quiet',\n",
      "       'Is generally trusting', 'Tends to be lazy',\n",
      "       'Is emotionally stable/not easily upset', 'is inventive',\n",
      "       'Has an assertive personality', 'Can be cold and aloof',\n",
      "       'Perseveres until the task is finished', 'Can be moody',\n",
      "       'Values artistic/aesthetic experiences', 'Is sometimes shy/inhibited',\n",
      "       'Is considerate and kind to almost everyone', 'Does things efficiently',\n",
      "       'Remains calm in tense situations', 'Prefers work that is routine',\n",
      "       'is outgoing/sociable', 'Is sometimes rude to others',\n",
      "       'Makes plans and follows through with them', 'Gets nervous easily',\n",
      "       'Likes to reflect/play with ideas', 'Has few artistic interests',\n",
      "       'Likes to cooperate with others', 'Is easily distracted',\n",
      "       'Is sophisticated in art or music or literature'],\n",
      "      dtype='object')\n"
     ]
    }
   ],
   "source": [
    "print(personality.columns) # Display questions"
   ]
  },
  {
   "cell_type": "code",
   "execution_count": 30,
   "id": "ddf31353",
   "metadata": {},
   "outputs": [],
   "source": [
    "x = np.column_stack((origDataNewCoordinates[:,0],origDataNewCoordinates[:,1],origDataNewCoordinates[:,2],origDataNewCoordinates[:,3],origDataNewCoordinates[:,4],origDataNewCoordinates[:,5],origDataNewCoordinates[:,6],origDataNewCoordinates[:,7]))"
   ]
  },
  {
   "cell_type": "code",
   "execution_count": 31,
   "id": "a4654513",
   "metadata": {},
   "outputs": [
    {
     "data": {
      "image/png": "[encoded data removed]",
      "text/plain": [
       "<Figure size 432x288 with 9 Axes>"
      ]
     },
     "metadata": {
      "needs_background": "light"
     },
     "output_type": "display_data"
    }
   ],
   "source": [
    "# Silhouette: How similar to points in cluster vs. others, arbitrariness\n",
    "\n",
    "# Remember: each data point gets its own silhouette coefficient ranging \n",
    "# from 0 (arbitrary classification) to 1 (ideal classification).\n",
    "\n",
    "# Init:\n",
    "numClusters = 9 # how many clusters are we looping over? (from 8 to 17)\n",
    "Q = np.empty([numClusters,1])*np.NaN # init container to store sums\n",
    "\n",
    "# Compute kMeans:\n",
    "for ii in range(2, 11): # Loop through each cluster (from 2 to 10!)\n",
    "    kMeans = KMeans(n_clusters = int(ii)).fit(x) # compute kmeans using scikit\n",
    "    cId = kMeans.labels_ # vector of cluster IDs that the row belongs to\n",
    "    cCoords = kMeans.cluster_centers_ # coordinate location for center of each cluster\n",
    "    s = silhouette_samples(x,cId) # compute the mean silhouette coefficient of all samples\n",
    "    Q[ii-2] = sum(s) # take the sum\n",
    "    # Plot data:\n",
    "    plt.subplot(3,3,ii-1) \n",
    "    plt.hist(s,bins=20) \n",
    "    plt.xlim(-0.2,1)\n",
    "    plt.ylim(0,130)\n",
    "    plt.xlabel('Silhouette score')\n",
    "    plt.ylabel('Count')\n",
    "    plt.title('Sum: {}'.format(int(Q[ii-2]))) # sum rounded to nearest integer\n",
    "    plt.tight_layout() # adjusts subplot padding"
   ]
  },
  {
   "cell_type": "code",
   "execution_count": 32,
   "id": "d6ffa9db",
   "metadata": {},
   "outputs": [
    {
     "data": {
      "image/png": "[encoded data removed]",
      "text/plain": [
       "<Figure size 432x288 with 1 Axes>"
      ]
     },
     "metadata": {
      "needs_background": "light"
     },
     "output_type": "display_data"
    }
   ],
   "source": [
    "# Plot this to make it clearer what is going on\n",
    "plt.plot(np.linspace(2,10,9),Q)\n",
    "plt.xlabel('Number of clusters')\n",
    "plt.ylabel('Sum of silhouette scores')\n",
    "plt.show()"
   ]
  },
  {
   "cell_type": "code",
   "execution_count": 33,
   "id": "8998b09f",
   "metadata": {},
   "outputs": [
    {
     "data": {
      "image/png": "[encoded data removed]",
      "text/plain": [
       "<Figure size 432x288 with 1 Axes>"
      ]
     },
     "metadata": {
      "needs_background": "light"
     },
     "output_type": "display_data"
    }
   ],
   "source": [
    "# Now let's recompute the kMeans using  clusters and plot the color-coded data\n",
    "\n",
    "# Recompute kMeans:\n",
    "numClusters = 2\n",
    "kMeans = KMeans(n_clusters = numClusters).fit(x) \n",
    "cId = kMeans.labels_ \n",
    "cCoords = kMeans.cluster_centers_ \n",
    "\n",
    "# Plot the color-coded data:\n",
    "for ii in range(numClusters):\n",
    "    plotIndex = np.argwhere(cId == int(ii))\n",
    "    plt.plot(x[plotIndex,0],x[plotIndex,1],'o',markersize=1)\n",
    "    plt.plot(cCoords[int(ii-1),0],cCoords[int(ii-1),1],'o',markersize=5,color='black')  \n",
    "    plt.xlabel('PC1')\n",
    "    plt.ylabel('PC2')\n"
   ]
  },
  {
   "cell_type": "markdown",
   "id": "8685442c",
   "metadata": {},
   "source": [
    "Question 3: Are movies that are more popular rated higher than movies that are less popular?"
   ]
  },
  {
   "cell_type": "code",
   "execution_count": 34,
   "id": "556e2b31",
   "metadata": {},
   "outputs": [
    {
     "data": {
      "text/plain": [
       "(1097, 400)"
      ]
     },
     "execution_count": 34,
     "metadata": {},
     "output_type": "execute_result"
    }
   ],
   "source": [
    "data = pd.read_csv('movieReplicationSet.csv')\n",
    "\n",
    "movieRatings=data.iloc[0:,0:400]\n",
    "sensationSeek=data.iloc[0:,400:420]\n",
    "personality=data.iloc[0:,420:464]\n",
    "movieExperience=data.iloc[0:,464:474]\n",
    "gender=data.iloc[0:,474]\n",
    "onlyChild=data.iloc[0:,475]\n",
    "socialViewPref=data.iloc[0:,476]\n",
    "data.shape\n",
    "\n",
    "movieRatings=data.iloc[0:,0:400]\n",
    "movieRatings.shape"
   ]
  },
  {
   "cell_type": "code",
   "execution_count": 35,
   "id": "d07bb09a",
   "metadata": {},
   "outputs": [
    {
     "name": "stdout",
     "output_type": "stream",
     "text": [
      "Django Unchained (2012)                           453\n",
      "Alien (1979)                                      289\n",
      "Indiana Jones and the Last Crusade (1989)         463\n",
      "Fargo (1996)                                      254\n",
      "Black Swan (2010)                                 588\n",
      "                                                 ... \n",
      "X-Men 2 (2003)                                    448\n",
      "The Mask (1994)                                   398\n",
      "Jaws (1975)                                       496\n",
      "Harry Potter and the Chamber of Secrets (2002)    846\n",
      "Anaconda (1997)                                   198\n",
      "Length: 200, dtype: int64\n",
      "(200,)\n"
     ]
    }
   ],
   "source": [
    "numRatings=movieRatings.count(axis=0)\n",
    "numRatingsmedian=numRatings.median(axis=0)\n",
    "popMovies=numRatings.loc[numRatings>=numRatingsmedian]\n",
    "unpopMovies=numRatings.loc[numRatings<numRatingsmedian]\n",
    "print(popMovies)\n",
    "print(unpopMovies.shape)"
   ]
  },
  {
   "cell_type": "code",
   "execution_count": 36,
   "id": "7669f93b",
   "metadata": {},
   "outputs": [
    {
     "name": "stdout",
     "output_type": "stream",
     "text": [
      "      Django Unchained (2012)  Alien (1979)  \\\n",
      "0                         4.0           NaN   \n",
      "1                         1.5           NaN   \n",
      "2                         NaN           NaN   \n",
      "3                         2.0           NaN   \n",
      "4                         3.5           NaN   \n",
      "...                       ...           ...   \n",
      "1092                      NaN           NaN   \n",
      "1093                      NaN           NaN   \n",
      "1094                      NaN           NaN   \n",
      "1095                      NaN           NaN   \n",
      "1096                      4.0           NaN   \n",
      "\n",
      "      Indiana Jones and the Last Crusade (1989)  Fargo (1996)  \\\n",
      "0                                           3.0           NaN   \n",
      "1                                           NaN           NaN   \n",
      "2                                           NaN           NaN   \n",
      "3                                           3.0           NaN   \n",
      "4                                           0.5           1.0   \n",
      "...                                         ...           ...   \n",
      "1092                                        3.5           NaN   \n",
      "1093                                        4.0           NaN   \n",
      "1094                                        NaN           3.5   \n",
      "1095                                        NaN           NaN   \n",
      "1096                                        2.5           3.0   \n",
      "\n",
      "      Black Swan (2010)  King Kong (1976)  A Nightmare on Elm Street (1984)  \\\n",
      "0                   NaN               NaN                               NaN   \n",
      "1                   NaN               NaN                               NaN   \n",
      "2                   NaN               NaN                               NaN   \n",
      "3                   4.0               NaN                               NaN   \n",
      "4                   0.0               0.0                               NaN   \n",
      "...                 ...               ...                               ...   \n",
      "1092                NaN               NaN                               NaN   \n",
      "1093                3.5               3.5                               3.5   \n",
      "1094                NaN               NaN                               NaN   \n",
      "1095                NaN               NaN                               NaN   \n",
      "1096                3.5               2.5                               0.5   \n",
      "\n",
      "      The Fast and the Furious (2001)  American Beauty (1999)  Psycho (1960)  \\\n",
      "0                                 4.0                     NaN            3.5   \n",
      "1                                 NaN                     NaN            NaN   \n",
      "2                                 2.5                     NaN            NaN   \n",
      "3                                 NaN                     3.5            NaN   \n",
      "4                                 2.5                     NaN            NaN   \n",
      "...                               ...                     ...            ...   \n",
      "1092                              NaN                     2.5            NaN   \n",
      "1093                              4.0                     NaN            4.0   \n",
      "1094                              NaN                     2.5            2.0   \n",
      "1095                              NaN                     2.0            NaN   \n",
      "1096                              1.5                     1.5            3.5   \n",
      "\n",
      "      ...  Inception (2010)  Groundhog Day (1993)  Gladiator (2000)  \\\n",
      "0     ...               3.0                   NaN               NaN   \n",
      "1     ...               2.5                   NaN               NaN   \n",
      "2     ...               4.0                   NaN               NaN   \n",
      "3     ...               3.5                   NaN               NaN   \n",
      "4     ...               3.5                   2.0               NaN   \n",
      "...   ...               ...                   ...               ...   \n",
      "1092  ...               4.0                   3.0               NaN   \n",
      "1093  ...               3.0                   4.0               NaN   \n",
      "1094  ...               3.0                   NaN               3.5   \n",
      "1095  ...               2.5                   NaN               NaN   \n",
      "1096  ...               1.0                   NaN               NaN   \n",
      "\n",
      "      The Mummy (1999)  Harry Potter and the Goblet of Fire (2005)  \\\n",
      "0                  NaN                                         0.0   \n",
      "1                  NaN                                         NaN   \n",
      "2                  NaN                                         4.0   \n",
      "3                  NaN                                         2.5   \n",
      "4                  1.0                                         NaN   \n",
      "...                ...                                         ...   \n",
      "1092               NaN                                         4.0   \n",
      "1093               4.0                                         3.5   \n",
      "1094               NaN                                         3.0   \n",
      "1095               NaN                                         3.0   \n",
      "1096               NaN                                         4.0   \n",
      "\n",
      "      X-Men 2 (2003)  The Mask (1994)  Jaws (1975)  \\\n",
      "0                NaN              NaN          4.0   \n",
      "1                NaN              NaN          NaN   \n",
      "2                NaN              NaN          NaN   \n",
      "3                NaN              NaN          NaN   \n",
      "4                2.5              3.0          NaN   \n",
      "...              ...              ...          ...   \n",
      "1092             NaN              NaN          NaN   \n",
      "1093             4.0              4.0          3.5   \n",
      "1094             NaN              NaN          NaN   \n",
      "1095             NaN              NaN          NaN   \n",
      "1096             NaN              NaN          3.5   \n",
      "\n",
      "      Harry Potter and the Chamber of Secrets (2002)  Anaconda (1997)  \n",
      "0                                                0.5              NaN  \n",
      "1                                                4.0              NaN  \n",
      "2                                                3.5              NaN  \n",
      "3                                                2.5              NaN  \n",
      "4                                                NaN              NaN  \n",
      "...                                              ...              ...  \n",
      "1092                                             4.0              NaN  \n",
      "1093                                             3.5              3.5  \n",
      "1094                                             4.0              NaN  \n",
      "1095                                             2.5              NaN  \n",
      "1096                                             4.0              NaN  \n",
      "\n",
      "[1097 rows x 200 columns]\n",
      "      The Life of David Gale (2003)  Wing Commander (1999)  Snatch (2000)  \\\n",
      "0                               NaN                    NaN            NaN   \n",
      "1                               NaN                    NaN            NaN   \n",
      "2                               NaN                    NaN            NaN   \n",
      "3                               NaN                    NaN            NaN   \n",
      "4                               NaN                    NaN            NaN   \n",
      "...                             ...                    ...            ...   \n",
      "1092                            NaN                    NaN            NaN   \n",
      "1093                            3.0                    4.0            4.0   \n",
      "1094                            NaN                    NaN            NaN   \n",
      "1095                            NaN                    NaN            NaN   \n",
      "1096                            NaN                    NaN            NaN   \n",
      "\n",
      "      Rambo: First Blood Part II (1985)  Let the Right One In (2008)  \\\n",
      "0                                   NaN                          NaN   \n",
      "1                                   NaN                          NaN   \n",
      "2                                   NaN                          NaN   \n",
      "3                                   NaN                          NaN   \n",
      "4                                   0.5                          NaN   \n",
      "...                                 ...                          ...   \n",
      "1092                                NaN                          NaN   \n",
      "1093                                2.5                          3.5   \n",
      "1094                                NaN                          NaN   \n",
      "1095                                NaN                          NaN   \n",
      "1096                                NaN                          NaN   \n",
      "\n",
      "      The Machinist (2004)  Brazil (1985)  Change of Habit (1969)  \\\n",
      "0                      NaN            NaN                     NaN   \n",
      "1                      NaN            NaN                     NaN   \n",
      "2                      NaN            NaN                     NaN   \n",
      "3                      NaN            NaN                     NaN   \n",
      "4                      NaN            NaN                     NaN   \n",
      "...                    ...            ...                     ...   \n",
      "1092                   NaN            NaN                     NaN   \n",
      "1093                   NaN            3.5                     3.5   \n",
      "1094                   NaN            NaN                     NaN   \n",
      "1095                   NaN            NaN                     NaN   \n",
      "1096                   NaN            NaN                     NaN   \n",
      "\n",
      "      Night of the Living Dead (1968)  Man on Fire (2004)  ...  \\\n",
      "0                                 NaN                 NaN  ...   \n",
      "1                                 NaN                 NaN  ...   \n",
      "2                                 NaN                 NaN  ...   \n",
      "3                                 NaN                 NaN  ...   \n",
      "4                                 NaN                 NaN  ...   \n",
      "...                               ...                 ...  ...   \n",
      "1092                              NaN                 NaN  ...   \n",
      "1093                              3.5                 4.0  ...   \n",
      "1094                              NaN                 NaN  ...   \n",
      "1095                              NaN                 NaN  ...   \n",
      "1096                              NaN                 NaN  ...   \n",
      "\n",
      "      On Golden Pond (1981)  The Descent (2005)  Runaway Bride (1999)  \\\n",
      "0                       NaN                 NaN                   NaN   \n",
      "1                       NaN                 NaN                   NaN   \n",
      "2                       NaN                 NaN                   NaN   \n",
      "3                       NaN                 NaN                   NaN   \n",
      "4                       NaN                 NaN                   3.5   \n",
      "...                     ...                 ...                   ...   \n",
      "1092                    NaN                 NaN                   NaN   \n",
      "1093                    4.0                 3.0                   3.5   \n",
      "1094                    NaN                 NaN                   NaN   \n",
      "1095                    NaN                 NaN                   NaN   \n",
      "1096                    NaN                 NaN                   4.0   \n",
      "\n",
      "      Gods and Generals (2003)  My Father and My Son (2005)  \\\n",
      "0                          NaN                          NaN   \n",
      "1                          NaN                          NaN   \n",
      "2                          NaN                          NaN   \n",
      "3                          NaN                          NaN   \n",
      "4                          NaN                          NaN   \n",
      "...                        ...                          ...   \n",
      "1092                       NaN                          NaN   \n",
      "1093                       4.0                          3.5   \n",
      "1094                       NaN                          NaN   \n",
      "1095                       NaN                          NaN   \n",
      "1096                       NaN                          NaN   \n",
      "\n",
      "      The Usual Suspects (1995)  Patton (1970)  Twister (1996)  \\\n",
      "0                           NaN            NaN             NaN   \n",
      "1                           NaN            NaN             NaN   \n",
      "2                           NaN            NaN             NaN   \n",
      "3                           3.0            NaN             NaN   \n",
      "4                           NaN            NaN             1.5   \n",
      "...                         ...            ...             ...   \n",
      "1092                        NaN            NaN             NaN   \n",
      "1093                        NaN            4.0             4.0   \n",
      "1094                        NaN            NaN             NaN   \n",
      "1095                        NaN            NaN             NaN   \n",
      "1096                        NaN            NaN             NaN   \n",
      "\n",
      "      MacArthur (1977)  Look Who's Talking (1989)  \n",
      "0                  NaN                        NaN  \n",
      "1                  NaN                        NaN  \n",
      "2                  NaN                        NaN  \n",
      "3                  NaN                        NaN  \n",
      "4                  NaN                        NaN  \n",
      "...                ...                        ...  \n",
      "1092               NaN                        NaN  \n",
      "1093               4.0                        4.0  \n",
      "1094               NaN                        NaN  \n",
      "1095               NaN                        NaN  \n",
      "1096               NaN                        NaN  \n",
      "\n",
      "[1097 rows x 200 columns]\n"
     ]
    }
   ],
   "source": [
    "popMovieslist=popMovies.axes[0].tolist()\n",
    "unpopMovieslist=unpopMovies.axes[0].tolist()\n",
    "\n",
    "popMovies=movieRatings.loc[:,popMovieslist]\n",
    "unpopMovies=movieRatings.loc[:,unpopMovieslist]\n",
    "print(popMovies)\n",
    "print(unpopMovies)\n"
   ]
  },
  {
   "cell_type": "code",
   "execution_count": 37,
   "id": "364fe766",
   "metadata": {},
   "outputs": [
    {
     "name": "stdout",
     "output_type": "stream",
     "text": [
      "3.0\n",
      "2.5\n"
     ]
    }
   ],
   "source": [
    "medianRatingspopind=popMovies.median(axis=0)\n",
    "medianRatingsallpop=medianRatingspopind.median()\n",
    "print(medianRatingsallpop)\n",
    "#medianRatingspop=medianRatingspopind.median()\n",
    "\n",
    "medianRatingsunpopind=unpopMovies.median(axis=0)\n",
    "medianRatingsallunpop=medianRatingsunpopind.median()\n",
    "print(medianRatingsallunpop)\n",
    "\n",
    "#medianRatingsunpop=medianRatingsunpopind.median()\n"
   ]
  },
  {
   "cell_type": "markdown",
   "id": "e0295d70",
   "metadata": {},
   "source": [
    "Question4: Is enjoyment of ‘Shrek (2001)’ gendered, i.e. do male and female viewers rate it differently?\n"
   ]
  },
  {
   "cell_type": "code",
   "execution_count": 38,
   "id": "6f66480b",
   "metadata": {},
   "outputs": [
    {
     "name": "stdout",
     "output_type": "stream",
     "text": [
      "96830.5\n",
      "0.050537\n"
     ]
    }
   ],
   "source": [
    "# Nonparametric tests equivalent to t-tests - Mann-Whitney U test:\n",
    "# Test for comparing medians of ordinal data (such as movie ratings)\n",
    "# from 2 groups\n",
    "data = pd.read_csv('movieReplicationSet.csv')\n",
    "\n",
    "movieRatings=data.iloc[0:,0:400]\n",
    "sensationSeek=data.iloc[0:,400:420]\n",
    "personality=data.iloc[0:,420:464]\n",
    "movieExperience=data.iloc[0:,464:474]\n",
    "gender=data.iloc[0:,474]\n",
    "onlyChild=data.iloc[0:,475]\n",
    "socialViewPref=data.iloc[0:,476]\n",
    "data.shape\n",
    "\n",
    "\n",
    "Shrek=movieRatings['Shrek (2001)']\n",
    "gender=data.iloc[:,474]\n",
    "\n",
    "combinedData=pd.concat([Shrek,gender],axis=1)\n",
    "combinedData=combinedData.dropna()\n",
    "\n",
    "\n",
    "\n",
    "femaleShrek=combinedData.loc[combinedData.iloc[:,1]==1]\n",
    "maleShrek=combinedData.loc[combinedData.iloc[:,1]==2]\n",
    "\n",
    "#print(femaleShrek)\n",
    "#print(maleShrek)\n",
    "\n",
    "u1,p1 = stats.mannwhitneyu(femaleShrek.iloc[:,0],maleShrek.iloc[:,0])\n",
    "print(u1,round(p1,6),sep='\\n')"
   ]
  },
  {
   "cell_type": "code",
   "execution_count": 39,
   "id": "f5db52be",
   "metadata": {},
   "outputs": [
    {
     "data": {
      "text/plain": [
       "0       1.0\n",
       "1       1.0\n",
       "2       1.0\n",
       "3       1.0\n",
       "4       1.0\n",
       "       ... \n",
       "1092    1.0\n",
       "1093    1.0\n",
       "1094    1.0\n",
       "1095    1.0\n",
       "1096    1.0\n",
       "Name: Gender identity (1 = female; 2 = male; 3 = self-described), Length: 1097, dtype: float64"
      ]
     },
     "execution_count": 39,
     "metadata": {},
     "output_type": "execute_result"
    }
   ],
   "source": [
    "gender=data.iloc[:,474]\n",
    "gender"
   ]
  },
  {
   "cell_type": "code",
   "execution_count": 40,
   "id": "0f1d3a40",
   "metadata": {},
   "outputs": [
    {
     "data": {
      "image/png": "[encoded data removed]",
      "text/plain": [
       "<Figure size 720x504 with 1 Axes>"
      ]
     },
     "metadata": {
      "needs_background": "light"
     },
     "output_type": "display_data"
    }
   ],
   "source": [
    "import matplotlib.pyplot as plt\n",
    "import numpy as np\n",
    " \n",
    "# Creating dataset\n",
    "data = combinedData\n",
    " \n",
    "fig = plt.figure(figsize =(10, 7))\n",
    " \n",
    "# Creating plot\n",
    "plt.boxplot(data)\n",
    " \n",
    "# show plot\n",
    "plt.show()"
   ]
  },
  {
   "cell_type": "markdown",
   "id": "12d689b5",
   "metadata": {},
   "source": [
    "Question 5: Do people who are only children enjoy ‘The Lion King (1994)’ more than people with siblings?"
   ]
  },
  {
   "cell_type": "code",
   "execution_count": 41,
   "id": "ac95d822",
   "metadata": {},
   "outputs": [
    {
     "name": "stdout",
     "output_type": "stream",
     "text": [
      "      The Lion King (1994)  \\\n",
      "2                      4.0   \n",
      "4                      4.0   \n",
      "5                      4.0   \n",
      "22                     3.5   \n",
      "33                     3.5   \n",
      "...                    ...   \n",
      "1058                   3.0   \n",
      "1068                   3.5   \n",
      "1075                   4.0   \n",
      "1076                   3.5   \n",
      "1088                   3.0   \n",
      "\n",
      "      Are you an only child? (1: Yes; 0: No; -1: Did not respond)  \n",
      "2                                                     1            \n",
      "4                                                     1            \n",
      "5                                                     1            \n",
      "22                                                    1            \n",
      "33                                                    1            \n",
      "...                                                 ...            \n",
      "1058                                                  1            \n",
      "1068                                                  1            \n",
      "1075                                                  1            \n",
      "1076                                                  1            \n",
      "1088                                                  1            \n",
      "\n",
      "[151 rows x 2 columns]\n",
      "      The Lion King (1994)  \\\n",
      "0                      4.0   \n",
      "3                      3.0   \n",
      "6                      3.5   \n",
      "7                      4.0   \n",
      "8                      4.0   \n",
      "...                    ...   \n",
      "1090                   3.5   \n",
      "1091                   4.0   \n",
      "1092                   3.5   \n",
      "1093                   3.5   \n",
      "1096                   4.0   \n",
      "\n",
      "      Are you an only child? (1: Yes; 0: No; -1: Did not respond)  \n",
      "0                                                     0            \n",
      "3                                                     0            \n",
      "6                                                     0            \n",
      "7                                                     0            \n",
      "8                                                     0            \n",
      "...                                                 ...            \n",
      "1090                                                  0            \n",
      "1091                                                  0            \n",
      "1092                                                  0            \n",
      "1093                                                  0            \n",
      "1096                                                  0            \n",
      "\n",
      "[776 rows x 2 columns]\n",
      "52929.0\n",
      "0.043199\n"
     ]
    }
   ],
   "source": [
    "# Nonparametric tests equivalent to t-tests - Mann-Whitney U test:\n",
    "# Test for comparing medians of ordinal data (such as movie ratings)\n",
    "# from 2 groups\n",
    "data = pd.read_csv('movieReplicationSet.csv')\n",
    "\n",
    "movieRatings=data.iloc[0:,0:400]\n",
    "sensationSeek=data.iloc[0:,400:420]\n",
    "personality=data.iloc[0:,420:464]\n",
    "movieExperience=data.iloc[0:,464:474]\n",
    "gender=data.iloc[0:,474]\n",
    "onlyChild=data.iloc[0:,475]\n",
    "socialViewPref=data.iloc[0:,476]\n",
    "data.shape\n",
    "\n",
    "tlk=movieRatings['The Lion King (1994)']\n",
    "onlyChild=data.iloc[:,475]\n",
    "\n",
    "combinedData=pd.concat([tlk,onlyChild],axis=1)\n",
    "combinedData=combinedData.dropna()\n",
    "\n",
    "\n",
    "OnlyChild=combinedData.loc[combinedData.iloc[:,1]==1]\n",
    "Siblings=combinedData.loc[combinedData.iloc[:,1]==0]\n",
    "\n",
    "print(OnlyChild)\n",
    "print(Siblings)\n",
    "\n",
    "u1,p1 = stats.mannwhitneyu(OnlyChild.iloc[:,0],Siblings.iloc[:,0])\n",
    "print(u1,round(p1,6),sep='\\n')"
   ]
  },
  {
   "cell_type": "markdown",
   "id": "e0ab8021",
   "metadata": {},
   "source": [
    "Question 6: Do people who like to watch movies socially enjoy ‘The Wolf of Wall Street (2013)’ more than\n",
    "those who prefer to watch them alone?"
   ]
  },
  {
   "cell_type": "code",
   "execution_count": 42,
   "id": "c4f28f73",
   "metadata": {},
   "outputs": [
    {
     "name": "stdout",
     "output_type": "stream",
     "text": [
      "      The Wolf of Wall Street (2013)  \\\n",
      "3                                4.0   \n",
      "4                                3.0   \n",
      "7                                3.5   \n",
      "8                                3.5   \n",
      "9                                3.0   \n",
      "...                              ...   \n",
      "1078                             3.5   \n",
      "1080                             4.0   \n",
      "1086                             3.5   \n",
      "1090                             4.0   \n",
      "1096                             4.0   \n",
      "\n",
      "      Movies are best enjoyed alone (1: Yes; 0: No; -1: Did not respond)  \n",
      "3                                                     1                   \n",
      "4                                                     1                   \n",
      "7                                                     1                   \n",
      "8                                                     1                   \n",
      "9                                                     1                   \n",
      "...                                                 ...                   \n",
      "1078                                                  1                   \n",
      "1080                                                  1                   \n",
      "1086                                                  1                   \n",
      "1090                                                  1                   \n",
      "1096                                                  1                   \n",
      "\n",
      "[393 rows x 2 columns]\n",
      "      The Wolf of Wall Street (2013)  \\\n",
      "5                                2.5   \n",
      "6                                1.0   \n",
      "12                               3.5   \n",
      "14                               4.0   \n",
      "18                               4.0   \n",
      "...                              ...   \n",
      "1082                             4.0   \n",
      "1085                             4.0   \n",
      "1087                             4.0   \n",
      "1093                             3.5   \n",
      "1094                             2.0   \n",
      "\n",
      "      Movies are best enjoyed alone (1: Yes; 0: No; -1: Did not respond)  \n",
      "5                                                     0                   \n",
      "6                                                     0                   \n",
      "12                                                    0                   \n",
      "14                                                    0                   \n",
      "18                                                    0                   \n",
      "...                                                 ...                   \n",
      "1082                                                  0                   \n",
      "1085                                                  0                   \n",
      "1087                                                  0                   \n",
      "1093                                                  0                   \n",
      "1094                                                  0                   \n",
      "\n",
      "[270 rows x 2 columns]\n",
      "56806.5\n",
      "0.112764\n"
     ]
    }
   ],
   "source": [
    "# Nonparametric tests equivalent to t-tests - Mann-Whitney U test:\n",
    "# Test for comparing medians of ordinal data (such as movie ratings)\n",
    "# from 2 groups\n",
    "data = pd.read_csv('movieReplicationSet.csv')\n",
    "\n",
    "movieRatings=data.iloc[0:,0:400]\n",
    "sensationSeek=data.iloc[0:,400:420]\n",
    "personality=data.iloc[0:,420:464]\n",
    "movieExperience=data.iloc[0:,464:474]\n",
    "gender=data.iloc[0:,474]\n",
    "onlyChild=data.iloc[0:,475]\n",
    "socialViewPref=data.iloc[0:,476]\n",
    "data.shape\n",
    "\n",
    "\n",
    "wolf=movieRatings['The Wolf of Wall Street (2013)']\n",
    "socialViewPref=data.iloc[0:,476]\n",
    "\n",
    "combinedData=pd.concat([wolf,socialViewPref],axis=1)\n",
    "combinedData=combinedData.dropna()\n",
    "\n",
    "\n",
    "alone=combinedData.loc[combinedData.iloc[:,1]==1]\n",
    "socially=combinedData.loc[combinedData.iloc[:,1]==0]\n",
    "\n",
    "print(alone)\n",
    "print(socially)\n",
    "\n",
    "u1,p1 = stats.mannwhitneyu(alone.iloc[:,0],socially.iloc[:,0])\n",
    "print(u1,round(p1,6),sep='\\n')"
   ]
  },
  {
   "cell_type": "markdown",
   "id": "dda83878",
   "metadata": {},
   "source": [
    "Question 7:\n",
    "There are ratings on movies from several franchises ([‘Star Wars’, ‘Harry Potter’, ‘The Matrix’,\n",
    "‘Indiana Jones’, ‘Jurassic Park’, ‘Pirates of the Caribbean’, ‘Toy Story’, ‘Batman’]) in this\n",
    "dataset. How many of these are of inconsistent quality, as experienced by viewers?"
   ]
  },
  {
   "cell_type": "code",
   "execution_count": 43,
   "id": "15071e65",
   "metadata": {},
   "outputs": [
    {
     "name": "stdout",
     "output_type": "stream",
     "text": [
      "(260, 3)\n",
      "40.32303905969196 0.0\n"
     ]
    }
   ],
   "source": [
    "#'The Matrix'\n",
    "data = pd.read_csv('movieReplicationSet.csv')\n",
    "\n",
    "movieRatings=data.iloc[0:,0:400]\n",
    "sensationSeek=data.iloc[0:,400:420]\n",
    "personality=data.iloc[0:,420:464]\n",
    "movieExperience=data.iloc[0:,464:474]\n",
    "gender=data.iloc[0:,474]\n",
    "onlyChild=data.iloc[0:,475]\n",
    "socialViewPref=data.iloc[0:,476]\n",
    "data.shape\n",
    "\n",
    "\n",
    "# 2. Let's get a handle on our movie titles:\n",
    "titles = movieRatings.columns \n",
    "# 3. Find the Matrix data:\n",
    "title = 'Matrix' # or any other title, for that matter \n",
    "theMatrix = movieRatings.loc[:,movieRatings.columns.str.contains(title)] # Access group of rows and columns by label(s)\n",
    "theMatrix=theMatrix.dropna()\n",
    "print(theMatrix.shape)\n",
    "h,p = stats.kruskal(theMatrix.iloc[:,0],theMatrix.iloc[:,1],theMatrix.iloc[:,2])\n",
    "print(h,round(p,3))\n"
   ]
  },
  {
   "cell_type": "code",
   "execution_count": 44,
   "id": "7d199cf3",
   "metadata": {},
   "outputs": [
    {
     "name": "stdout",
     "output_type": "stream",
     "text": [
      "(333, 6)\n",
      "108.36408764120078 0.0\n"
     ]
    }
   ],
   "source": [
    "#'Star Wars'\n",
    "# 2. Let's get a handle on our movie titles:\n",
    "titles = movieRatings.columns \n",
    "# 3. Find the Matrix data:\n",
    "title = 'Star Wars' # or any other title, for that matter \n",
    "starwar = movieRatings.loc[:,movieRatings.columns.str.contains(title)] # Access group of rows and columns by label(s)\n",
    "starwar=starwar.dropna()\n",
    "print(starwar.shape)\n",
    "h,p = stats.kruskal(starwar.iloc[:,0],starwar.iloc[:,1],starwar.iloc[:,2])\n",
    "print(h,round(p,3))"
   ]
  },
  {
   "cell_type": "code",
   "execution_count": 45,
   "id": "bbf8cfec",
   "metadata": {},
   "outputs": [
    {
     "name": "stdout",
     "output_type": "stream",
     "text": [
      "(710, 4)\n",
      "4.354824407279647 0.113\n"
     ]
    }
   ],
   "source": [
    "#'Harry Potter'\n",
    "# 2. Let's get a handle on our movie titles:\n",
    "titles = movieRatings.columns \n",
    "# 3. Find the Matrix data:\n",
    "title = 'Harry Potter' # or any other title, for that matter \n",
    "harrporter = movieRatings.loc[:,movieRatings.columns.str.contains(title)] # Access group of rows and columns by label(s)\n",
    "harrporter=harrporter.dropna()\n",
    "print(harrporter.shape)\n",
    "htm,ptm = stats.kruskal(harrporter.iloc[:,0],harrporter.iloc[:,1],harrporter.iloc[:,2])\n",
    "print(htm,round(ptm,3))"
   ]
  },
  {
   "cell_type": "code",
   "execution_count": 46,
   "id": "c10a9709",
   "metadata": {},
   "outputs": [
    {
     "name": "stdout",
     "output_type": "stream",
     "text": [
      "(244, 4)\n",
      "11.449007590447605 0.003\n"
     ]
    }
   ],
   "source": [
    "### 'Indiana Jones'\n",
    "# 2. Let's get a handle on our movie titles:\n",
    "titles = movieRatings.columns \n",
    "# 3. Find the Matrix data:\n",
    "title = 'Indiana Jones' # or any other title, for that matter \n",
    "indianajones = movieRatings.loc[:,movieRatings.columns.str.contains(title)] # Access group of rows and columns by label(s)\n",
    "indianajones=indianajones.dropna()\n",
    "print(indianajones.shape)\n",
    "htm,ptm = stats.kruskal(indianajones.iloc[:,0],indianajones.iloc[:,1],indianajones.iloc[:,2])\n",
    "print(htm,round(ptm,3))"
   ]
  },
  {
   "cell_type": "code",
   "execution_count": 47,
   "id": "674b9fb2",
   "metadata": {},
   "outputs": [
    {
     "name": "stdout",
     "output_type": "stream",
     "text": [
      "(398, 3)\n",
      "49.42733030275783 0.0\n"
     ]
    }
   ],
   "source": [
    "#'Jurassic Park'\n",
    "# 2. Let's get a handle on our movie titles:\n",
    "titles = movieRatings.columns \n",
    "# 3. Find the Matrix data:\n",
    "title = 'Jurassic Park' # or any other title, for that matter \n",
    "jurassicpark = movieRatings.loc[:,movieRatings.columns.str.contains(title)] # Access group of rows and columns by label(s)\n",
    "jurassicpark=jurassicpark.dropna()\n",
    "print(jurassicpark.shape)\n",
    "htm,ptm = stats.kruskal(jurassicpark.iloc[:,0],jurassicpark.iloc[:,1],jurassicpark.iloc[:,2])\n",
    "print(htm,round(ptm,3))"
   ]
  },
  {
   "cell_type": "code",
   "execution_count": 48,
   "id": "d1edf016",
   "metadata": {},
   "outputs": [
    {
     "name": "stdout",
     "output_type": "stream",
     "text": [
      "(561, 3)\n",
      "6.660021086485515 0.036\n"
     ]
    }
   ],
   "source": [
    "#'Pirates of the Caribbean'\n",
    "# 2. Let's get a handle on our movie titles:\n",
    "titles = movieRatings.columns \n",
    "# 3. Find the Matrix data:\n",
    "title = 'Pirates of the Caribbean' # or any other title, for that matter \n",
    "poc = movieRatings.loc[:,movieRatings.columns.str.contains(title)] # Access group of rows and columns by label(s)\n",
    "poc=poc.dropna()\n",
    "print(poc.shape)\n",
    "htm,ptm = stats.kruskal(poc.iloc[:,0],poc.iloc[:,1],poc.iloc[:,2])\n",
    "print(htm,round(ptm,3))"
   ]
  },
  {
   "cell_type": "code",
   "execution_count": 49,
   "id": "c6ef9259",
   "metadata": {},
   "outputs": [
    {
     "name": "stdout",
     "output_type": "stream",
     "text": [
      "(757, 3)\n",
      "23.496729938969775 0.0\n"
     ]
    }
   ],
   "source": [
    "#'Toy Story'\n",
    "# 2. Let's get a handle on our movie titles:\n",
    "titles = movieRatings.columns \n",
    "# 3. Find the Matrix data:\n",
    "title = 'Toy Story' # or any other title, for that matter \n",
    "toystory = movieRatings.loc[:,movieRatings.columns.str.contains(title)] # Access group of rows and columns by label(s)\n",
    "toystory=toystory.dropna()\n",
    "print(toystory.shape)\n",
    "htm,ptm = stats.kruskal(toystory.iloc[:,0],toystory.iloc[:,1],toystory.iloc[:,2])\n",
    "print(htm,round(ptm,3))"
   ]
  },
  {
   "cell_type": "code",
   "execution_count": 50,
   "id": "d3347045",
   "metadata": {},
   "outputs": [
    {
     "name": "stdout",
     "output_type": "stream",
     "text": [
      "(260, 3)\n",
      "40.32303905969196 0.0\n"
     ]
    }
   ],
   "source": [
    "#'Batman'\n",
    "# 2. Let's get a handle on our movie titles:\n",
    "titles = movieRatings.columns \n",
    "# 3. Find the Matrix data:\n",
    "title = 'Batman' # or any other title, for that matter \n",
    "batman = movieRatings.loc[:,movieRatings.columns.str.contains(title)] # Access group of rows and columns by label(s)\n",
    "batman=theMatrix.dropna()\n",
    "print(batman.shape)\n",
    "htm,ptm = stats.kruskal(batman.iloc[:,0],batman.iloc[:,1],batman.iloc[:,2])\n",
    "print(htm,round(ptm,3))"
   ]
  },
  {
   "cell_type": "code",
   "execution_count": null,
   "id": "916f1ff9",
   "metadata": {},
   "outputs": [],
   "source": []
  }
 ],
 "metadata": {
  "kernelspec": {
   "display_name": "Python 3 (ipykernel)",
   "language": "python",
   "name": "python3"
  },
  "language_info": {
   "codemirror_mode": {
    "name": "ipython",
    "version": 3
   },
   "file_extension": ".py",
   "mimetype": "text/x-python",
   "name": "python",
   "nbconvert_exporter": "python",
   "pygments_lexer": "ipython3",
   "version": "3.9.7"
  }
 },
 "nbformat": 4,
 "nbformat_minor": 5
}
